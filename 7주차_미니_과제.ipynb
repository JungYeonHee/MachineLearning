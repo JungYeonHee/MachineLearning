{
  "nbformat": 4,
  "nbformat_minor": 0,
  "metadata": {
    "colab": {
      "name": "7주차 미니 과제.ipynb",
      "provenance": [],
      "collapsed_sections": [],
      "toc_visible": true,
      "include_colab_link": true
    },
    "kernelspec": {
      "name": "python3",
      "display_name": "Python 3"
    }
  },
  "cells": [
    {
      "cell_type": "markdown",
      "metadata": {
        "id": "view-in-github",
        "colab_type": "text"
      },
      "source": [
        "<a href=\"https://colab.research.google.com/github/JungYeonHee/MachineLearning/blob/master/7%EC%A3%BC%EC%B0%A8_%EB%AF%B8%EB%8B%88_%EA%B3%BC%EC%A0%9C.ipynb\" target=\"_parent\"><img src=\"https://colab.research.google.com/assets/colab-badge.svg\" alt=\"Open In Colab\"/></a>"
      ]
    },
    {
      "cell_type": "markdown",
      "metadata": {
        "id": "ntNurk1YgTjU"
      },
      "source": [
        "# 7주차 미니 과제 개요\n",
        "\n",
        "SVM 과 그레디언트 부스팅 모델 테스트 해보기"
      ]
    },
    {
      "cell_type": "code",
      "metadata": {
        "id": "UfhcpxGARkOR"
      },
      "source": [
        "# 파이썬 ≥3.5 필수\n",
        "import sys\n",
        "assert sys.version_info >= (3, 5)\n",
        "\n",
        "# 사이킷런 ≥0.20 필수\n",
        "import sklearn\n",
        "assert sklearn.__version__ >= \"0.20\"\n",
        "\n",
        "# 공통 모듈 임포트\n",
        "import numpy as np\n",
        "import os\n",
        "\n",
        "# 노트북 실행 결과를 동일하게 유지하기 위해\n",
        "np.random.seed(42)\n",
        "\n",
        "# 깔끔한 그래프 출력을 위해\n",
        "%matplotlib inline\n",
        "import matplotlib as mpl\n",
        "import matplotlib.pyplot as plt\n",
        "mpl.rc('axes', labelsize=14)\n",
        "mpl.rc('xtick', labelsize=12)\n",
        "mpl.rc('ytick', labelsize=12)\n",
        "\n",
        "# 그림을 저장할 위치\n",
        "PROJECT_ROOT_DIR = \".\"\n",
        "CHAPTER_ID = \"svm\"\n",
        "IMAGES_PATH = os.path.join(PROJECT_ROOT_DIR, \"images\", CHAPTER_ID)\n",
        "os.makedirs(IMAGES_PATH, exist_ok=True)\n",
        "\n",
        "def save_fig(fig_id, tight_layout=True, fig_extension=\"png\", resolution=300):\n",
        "    path = os.path.join(IMAGES_PATH, fig_id + \".\" + fig_extension)\n",
        "    print(\"그림 저장:\", fig_id)\n",
        "    if tight_layout:\n",
        "        plt.tight_layout()\n",
        "    plt.savefig(path, format=fig_extension, dpi=resolution)"
      ],
      "execution_count": null,
      "outputs": []
    },
    {
      "cell_type": "markdown",
      "metadata": {
        "id": "ZlDXiS_ZeAi5"
      },
      "source": [
        "데이터 세트 플로팅 함수"
      ]
    },
    {
      "cell_type": "code",
      "metadata": {
        "id": "f2X2iXiVV_yb"
      },
      "source": [
        "def plot_dataset(X, y, axes):\n",
        "    plt.plot(X[:, 0][y==0], X[:, 1][y==0], \"bs\")\n",
        "    plt.plot(X[:, 0][y==1], X[:, 1][y==1], \"g^\")\n",
        "    plt.axis(axes)\n",
        "    plt.grid(True, which='both')\n",
        "    plt.xlabel(r\"$x_1$\", fontsize=20)\n",
        "    plt.ylabel(r\"$x_2$\", fontsize=20, rotation=0)"
      ],
      "execution_count": null,
      "outputs": []
    },
    {
      "cell_type": "markdown",
      "metadata": {
        "id": "1d7mu0jldWe8"
      },
      "source": [
        "# Q1: 사이킷런 samples_generator 서브 패키지를 참고하여 도넛 모형의 비선형 분류 예제를 생성하자.\n",
        "\n",
        "스펙\n",
        "- 1000개 생성\n",
        "- factor=0.1\n",
        "- noise=0.1"
      ]
    },
    {
      "cell_type": "code",
      "metadata": {
        "id": "pKSY24udSDnQ",
        "colab": {
          "base_uri": "https://localhost:8080/",
          "height": 295
        },
        "outputId": "20f82d34-bba5-4c2b-d852-25eb32a30386"
      },
      "source": [
        "from sklearn.datasets.samples_generator import make_circles\n",
        "\n",
        "X, y = make_circles(1000, factor=0.1, noise=0.1)\n",
        "\n",
        "def plot_dataset(X, y, axes):\n",
        "    plt.plot(X[:, 0][y==0], X[:, 1][y==0], \"bs\")\n",
        "    plt.plot(X[:, 0][y==1], X[:, 1][y==1], \"g^\")\n",
        "    plt.axis(axes)\n",
        "    plt.grid(True, which='both')\n",
        "    plt.xlabel(r\"$x_1$\", fontsize=20)\n",
        "    plt.ylabel(r\"$x_2$\", fontsize=20, rotation=0)\n",
        "\n",
        "plot_dataset(X, y, [-1.5, 1.5, -1.5, 1.5])\n",
        "plt.show()"
      ],
      "execution_count": null,
      "outputs": [
        {
          "output_type": "display_data",
          "data": {
            "image/png": "[encoded data removed]",
            "text/plain": [
              "<Figure size 432x288 with 1 Axes>"
            ]
          },
          "metadata": {
            "tags": [],
            "needs_background": "light"
          }
        }
      ]
    },
    {
      "cell_type": "code",
      "metadata": {
        "id": "hME7Lf-oUnnE",
        "colab": {
          "base_uri": "https://localhost:8080/",
          "height": 295
        },
        "outputId": "f7f627a5-6db8-4d8b-c813-9cacea4f7ddc"
      },
      "source": [
        "plot_dataset(X, y, [-1.5, 1.5, -1.5, 1.5])"
      ],
      "execution_count": null,
      "outputs": [
        {
          "output_type": "display_data",
          "data": {
            "image/png": "[encoded data removed]",
            "text/plain": [
              "<Figure size 432x288 with 1 Axes>"
            ]
          },
          "metadata": {
            "tags": [],
            "needs_background": "light"
          }
        }
      ]
    },
    {
      "cell_type": "markdown",
      "metadata": {
        "id": "xBohG_kWeRhn"
      },
      "source": [
        "SVM 결정경계 플로팅 함수"
      ]
    },
    {
      "cell_type": "code",
      "metadata": {
        "id": "ik_YMsiKeKnv"
      },
      "source": [
        "def plot_predictions(clf, axes):\n",
        "    x0s = np.linspace(axes[0], axes[1], 100)\n",
        "    x1s = np.linspace(axes[2], axes[3], 100)\n",
        "    x0, x1 = np.meshgrid(x0s, x1s)\n",
        "    X = np.c_[x0.ravel(), x1.ravel()]\n",
        "    y_pred = clf.predict(X).reshape(x0.shape)\n",
        "    y_decision = clf.decision_function(X).reshape(x0.shape)\n",
        "    plt.contourf(x0, x1, y_pred, cmap=plt.cm.brg, alpha=0.2)\n",
        "    plt.contourf(x0, x1, y_decision, levels=[-1, 0, 1],  cmap=plt.cm.brg, alpha=0.1)"
      ],
      "execution_count": null,
      "outputs": []
    },
    {
      "cell_type": "markdown",
      "metadata": {
        "id": "7j72qisRecLx"
      },
      "source": [
        "#Q2: SVC를 임포트 하고 선형 분류기 ``linear_clf`` 를 만들어보자\n",
        "\n",
        "스펙\n",
        "- kernel='linear'\n",
        "- C=1e3"
      ]
    },
    {
      "cell_type": "code",
      "metadata": {
        "id": "vWW2mYlhWkkC"
      },
      "source": [
        "from sklearn.svm import SVC"
      ],
      "execution_count": null,
      "outputs": []
    },
    {
      "cell_type": "code",
      "metadata": {
        "id": "kxkA0iREXbGe",
        "colab": {
          "base_uri": "https://localhost:8080/",
          "height": 87
        },
        "outputId": "78cfa8f1-c2f7-47ad-df99-c8969834d626"
      },
      "source": [
        "linear_clf = SVC(kernel='linear', C=1e3)\n",
        "\n",
        "linear_clf.fit(X, y)"
      ],
      "execution_count": null,
      "outputs": [
        {
          "output_type": "execute_result",
          "data": {
            "text/plain": [
              "SVC(C=1000.0, break_ties=False, cache_size=200, class_weight=None, coef0=0.0,\n",
              "    decision_function_shape='ovr', degree=3, gamma='scale', kernel='linear',\n",
              "    max_iter=-1, probability=False, random_state=None, shrinking=True,\n",
              "    tol=0.001, verbose=False)"
            ]
          },
          "metadata": {
            "tags": []
          },
          "execution_count": 49
        }
      ]
    },
    {
      "cell_type": "code",
      "metadata": {
        "id": "spk9wWGXWURA",
        "colab": {
          "base_uri": "https://localhost:8080/",
          "height": 295
        },
        "outputId": "7df1869d-da1b-40d6-bbe6-d2eda0395f5a"
      },
      "source": [
        "plot_predictions(linear_clf, [-1.5, 1.5, -1.5, 1.5])\n",
        "plot_dataset(X, y, [-1.5, 1.5, -1.5, 1.5])"
      ],
      "execution_count": null,
      "outputs": [
        {
          "output_type": "display_data",
          "data": {
            "image/png": "[encoded data removed]",
            "text/plain": [
              "<Figure size 432x288 with 1 Axes>"
            ]
          },
          "metadata": {
            "tags": [],
            "needs_background": "light"
          }
        }
      ]
    },
    {
      "cell_type": "markdown",
      "metadata": {
        "id": "zk_5zkjbevVH"
      },
      "source": [
        "# Q2a: C 값을 다양하게 설정해가며 결과를 관찰 및 정리해보자."
      ]
    },
    {
      "cell_type": "markdown",
      "metadata": {
        "id": "k8zcYW-6IeoG"
      },
      "source": [
        "---------------"
      ]
    },
    {
      "cell_type": "markdown",
      "metadata": {
        "id": "w38fZZSWfEgp"
      },
      "source": [
        "#Q3: RBF 커널을 사용하는 svm 분류기 `rbf_clf`를  학습해보자\n",
        "\n",
        "스펙\n",
        "- kernel='rbf'\n",
        "- C=1e6"
      ]
    },
    {
      "cell_type": "code",
      "metadata": {
        "id": "Jt42YSlMW2eJ",
        "colab": {
          "base_uri": "https://localhost:8080/",
          "height": 87
        },
        "outputId": "e1bc7fd1-b7a4-44f5-cc7c-5f4b59171e75"
      },
      "source": [
        "rbf_clf = SVC(kernel='rbf', C=1e6)\n",
        "\n",
        "rbf_clf.fit(X, y)"
      ],
      "execution_count": null,
      "outputs": [
        {
          "output_type": "execute_result",
          "data": {
            "text/plain": [
              "SVC(C=1000000.0, break_ties=False, cache_size=200, class_weight=None, coef0=0.0,\n",
              "    decision_function_shape='ovr', degree=3, gamma='scale', kernel='rbf',\n",
              "    max_iter=-1, probability=False, random_state=None, shrinking=True,\n",
              "    tol=0.001, verbose=False)"
            ]
          },
          "metadata": {
            "tags": []
          },
          "execution_count": 51
        }
      ]
    },
    {
      "cell_type": "code",
      "metadata": {
        "id": "5a-s4PZnXP8d",
        "colab": {
          "base_uri": "https://localhost:8080/",
          "height": 295
        },
        "outputId": "39692227-0539-41a7-897f-cb45302903a4"
      },
      "source": [
        "plot_predictions(rbf_clf, [-1.5, 1.5, -1.5, 1.5])\n",
        "plot_dataset(X, y, [-1.5, 1.5, -1.5, 1.5])"
      ],
      "execution_count": null,
      "outputs": [
        {
          "output_type": "display_data",
          "data": {
            "image/png": "[encoded data removed]",
            "text/plain": [
              "<Figure size 432x288 with 1 Axes>"
            ]
          },
          "metadata": {
            "tags": [],
            "needs_background": "light"
          }
        }
      ]
    },
    {
      "cell_type": "markdown",
      "metadata": {
        "id": "llL4gjqgfRcB"
      },
      "source": [
        "#Q4: ``plot_predictions``를 수정하여 ``plot_predictions_with_sv`` 함수를 작성하자.\n",
        "\n",
        "스펙\n",
        "- 서포트 벡터를 찍어 보자."
      ]
    },
    {
      "cell_type": "code",
      "metadata": {
        "id": "zT6jwpPVXUfl"
      },
      "source": [
        "svm_reg = SVC(kernel='rbf', C=1e6)\n",
        "svm_reg.fit(X, y)\n",
        "\n",
        "def plot_predictions_with_sv(clf, axes):\n",
        "    x0s = np.linspace(axes[0], axes[1], 100)\n",
        "    x1s = np.linspace(axes[2], axes[3], 100)\n",
        "    x0, x1 = np.meshgrid(x0s, x1s)\n",
        "    X = np.c_[x0.ravel(), x1.ravel()]\n",
        "    y_pred = clf.predict(X).reshape(x0.shape)\n",
        "    y_decision = clf.decision_function(X).reshape(x0.shape)\n",
        "    plt.contourf(x0, x1, y_pred, cmap=plt.cm.brg, alpha=0.2)\n",
        "    plt.contourf(x0, x1, y_decision, cmap=plt.cm.brg, alpha=0.1)\n",
        "    svs = svm_reg.support_vectors_ # svm_clf.support_vectors_ 로부터  x0,x1  좌표를 얻어내어 그리면 됨\n",
        "    plt.scatter(svs[:, 0], svs[:, 1], s=180, facecolors='#FFAAAA')\n",
        "\n"
      ],
      "execution_count": null,
      "outputs": []
    },
    {
      "cell_type": "markdown",
      "metadata": {
        "id": "tli1JxbsbmUN"
      },
      "source": [
        ""
      ]
    },
    {
      "cell_type": "code",
      "metadata": {
        "id": "bPJqMS44X6R6",
        "colab": {
          "base_uri": "https://localhost:8080/",
          "height": 295
        },
        "outputId": "2d8541b5-32f1-429d-830f-65955e3cca9a"
      },
      "source": [
        "plot_predictions_with_sv(svm_reg, [-1.5, 1.5, -1.5, 1.5])\n",
        "plot_dataset(X, y, [-1.5, 1.5, -1.5, 1.5])"
      ],
      "execution_count": null,
      "outputs": [
        {
          "output_type": "display_data",
          "data": {
            "image/png": "[encoded data removed]",
            "text/plain": [
              "<Figure size 432x288 with 1 Axes>"
            ]
          },
          "metadata": {
            "tags": [],
            "needs_background": "light"
          }
        }
      ]
    },
    {
      "cell_type": "markdown",
      "metadata": {
        "id": "zZDVK2w1gyr4"
      },
      "source": [
        "#Q4a: 하이퍼파라미터를 달리해가며 결과를 관찰해보자."
      ]
    },
    {
      "cell_type": "markdown",
      "metadata": {
        "id": "AxKrOjUHIqhY"
      },
      "source": [
        "---------------"
      ]
    },
    {
      "cell_type": "markdown",
      "metadata": {
        "id": "xT3Gy_WsIxSO"
      },
      "source": [
        "lightgbm 인스톨"
      ]
    },
    {
      "cell_type": "code",
      "metadata": {
        "id": "tcTyzbSDaHBc",
        "colab": {
          "base_uri": "https://localhost:8080/",
          "height": 125
        },
        "outputId": "7dad1eed-ce98-4c98-f71c-0cb8f1e31240"
      },
      "source": [
        "!pip install lightgbm"
      ],
      "execution_count": null,
      "outputs": [
        {
          "output_type": "stream",
          "text": [
            "Requirement already satisfied: lightgbm in /usr/local/lib/python3.6/dist-packages (2.2.3)\n",
            "Requirement already satisfied: scikit-learn in /usr/local/lib/python3.6/dist-packages (from lightgbm) (0.22.2.post1)\n",
            "Requirement already satisfied: scipy in /usr/local/lib/python3.6/dist-packages (from lightgbm) (1.4.1)\n",
            "Requirement already satisfied: numpy in /usr/local/lib/python3.6/dist-packages (from lightgbm) (1.18.5)\n",
            "Requirement already satisfied: joblib>=0.11 in /usr/local/lib/python3.6/dist-packages (from scikit-learn->lightgbm) (0.16.0)\n"
          ],
          "name": "stdout"
        }
      ]
    },
    {
      "cell_type": "code",
      "metadata": {
        "id": "rFkwgwdSbFce"
      },
      "source": [
        "from lightgbm import LGBMClassifier"
      ],
      "execution_count": null,
      "outputs": []
    },
    {
      "cell_type": "markdown",
      "metadata": {
        "id": "9Pfn-Hrhfidl"
      },
      "source": [
        "#Q5: 그레디언트 부스팅 모델 lightgbm 학습기 ``gbm_clf`` 를 만들고 결정 경계를 그려보자\n",
        "\n",
        "스펙\n",
        "- max_depth=2"
      ]
    },
    {
      "cell_type": "code",
      "metadata": {
        "id": "gPTN85OKbgq0",
        "colab": {
          "base_uri": "https://localhost:8080/",
          "height": 123
        },
        "outputId": "7a80c63e-3a79-4b4d-887d-ee1f8e762197"
      },
      "source": [
        "gbm_clf = LGBMClassifier(max_depth=2)\n",
        "\n",
        "gbm_clf.fit(X, y)"
      ],
      "execution_count": null,
      "outputs": [
        {
          "output_type": "execute_result",
          "data": {
            "text/plain": [
              "LGBMClassifier(boosting_type='gbdt', class_weight=None, colsample_bytree=1.0,\n",
              "               importance_type='split', learning_rate=0.1, max_depth=2,\n",
              "               min_child_samples=20, min_child_weight=0.001, min_split_gain=0.0,\n",
              "               n_estimators=100, n_jobs=-1, num_leaves=31, objective=None,\n",
              "               random_state=None, reg_alpha=0.0, reg_lambda=0.0, silent=True,\n",
              "               subsample=1.0, subsample_for_bin=200000, subsample_freq=0)"
            ]
          },
          "metadata": {
            "tags": []
          },
          "execution_count": 57
        }
      ]
    },
    {
      "cell_type": "code",
      "metadata": {
        "id": "-GXy-NRxbjAv"
      },
      "source": [
        "def plot_predictions_gbm(clf, axes):\n",
        "    x0s = np.linspace(axes[0], axes[1], 100)\n",
        "    x1s = np.linspace(axes[2], axes[3], 100)\n",
        "    x0, x1 = np.meshgrid(x0s, x1s)\n",
        "    X = np.c_[x0.ravel(), x1.ravel()]\n",
        "    y_pred = clf.predict(X).reshape(x0.shape)\n",
        "    plt.contourf(x0, x1, y_pred, cmap=plt.cm.brg, alpha=0.2)\n"
      ],
      "execution_count": null,
      "outputs": []
    },
    {
      "cell_type": "code",
      "metadata": {
        "id": "Ohes9ZdFbsd6",
        "colab": {
          "base_uri": "https://localhost:8080/",
          "height": 295
        },
        "outputId": "0a81e022-336b-45df-ca1c-e55d4c640562"
      },
      "source": [
        "plot_predictions_gbm(gbm_clf, [-1.5, 1.5, -1.5, 1.5])\n",
        "plot_dataset(X, y, [-1.5, 1.5, -1.5, 1.5])"
      ],
      "execution_count": null,
      "outputs": [
        {
          "output_type": "display_data",
          "data": {
            "image/png": "[encoded data removed]",
            "text/plain": [
              "<Figure size 432x288 with 1 Axes>"
            ]
          },
          "metadata": {
            "tags": [],
            "needs_background": "light"
          }
        }
      ]
    },
    {
      "cell_type": "markdown",
      "metadata": {
        "id": "s372ygBOf31q"
      },
      "source": [
        "#Q5a: 하이퍼퍼라미터를 달라해가면 결과를 관찰해 보자."
      ]
    },
    {
      "cell_type": "markdown",
      "metadata": {
        "id": "VwVh7PuZgegi"
      },
      "source": [
        "# Q5b: 랜덤포레스트 모델로도 학습, 결정 경계를 그려보자\n",
        "\n",
        "스펙\n",
        "- 몇가지 하이퍼파라미터를 달리해가며 경향을 파악해보자."
      ]
    },
    {
      "cell_type": "code",
      "metadata": {
        "id": "lYvaTHQkJG7O"
      },
      "source": [
        ""
      ],
      "execution_count": null,
      "outputs": []
    }
  ]
}